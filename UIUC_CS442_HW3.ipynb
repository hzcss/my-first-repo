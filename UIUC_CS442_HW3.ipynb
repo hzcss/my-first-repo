{
  "cells": [
    {
      "cell_type": "code",
      "execution_count": null,
      "metadata": {
        "colab": {
          "background_save": true
        },
        "id": "Ld1cjurYc3fM",
        "scrolled": true
      },
      "outputs": [],
      "source": [
        "!pip install scratchai-nightly  # for adversarial attack\n",
        "!pip install torchvision==0.9.1 # deep learning models\n",
        "!pip install flashtorch         # visualization based on activation maximization \n",
        "!pip install mapextrackt        # visualization of neural network saliency map"
      ]
    },
    {
      "cell_type": "code",
      "execution_count": null,
      "metadata": {
        "id": "KjduJjJ0TKHi",
        "scrolled": true
      },
      "outputs": [],
      "source": [
        "# download and store locally a stop sign image\n",
        "stop_sign_url = 'https://static01.nyt.com/images/2011/12/11/magazine/11wmt1/mag-11WMT-t_CA0-jumbo.jpg'\n",
        "!mkdir input_images\n",
        "# !wget https://static01.nyt.com/images/2011/12/11/magazine/11wmt1/mag-11WMT-t_CA0-jumbo.jpg -O input_images/stop.jpg\n",
        "!wget https://github.com/trust-ai/SafeBench/blob/main/safebench/scenario/scenario_data/template_od/stopsign.jpg -O input_images/stop.jpg"
      ]
    },
    {
      "cell_type": "code",
      "execution_count": null,
      "metadata": {
        "id": "nR0D616vcb3Q",
        "scrolled": true
      },
      "outputs": [],
      "source": [
        "# suppress error\n",
        "import logging as logging\n",
        "import sys as sys\n",
        "logging.disable(sys.maxsize) \n",
        "\n",
        "# import the library\n",
        "import torch\n",
        "import numpy as np\n",
        "import matplotlib.pyplot as plt\n",
        "from torchvision import models\n",
        "from scratchai import *\n",
        "\n",
        "from flashtorch.activmax import GradientAscent\n",
        "from MapExtrackt import FeatureExtractor\n",
        "from torch.distributions import Normal\n",
        "\n",
        "\n",
        "# set parameters\n",
        "stop_sign_path = 'input_images/stop.jpg' #stop sign image path\n",
        "true_class = 919 # imagenet id for street sign\n",
        "\n",
        "\n",
        "# function handle to get prediction more easily\n",
        "def get_prediction(image, model):\n",
        "    #assumes img and net are datasets and models trained using imagenet dataset  \n",
        "    confidences = model(image.unsqueeze(0))\n",
        "    class_idx = torch.argmax(confidences, dim=1).item()\n",
        "    class_label = datasets.labels.imagenet_labels[class_idx]\n",
        "    return class_label, confidences[0, class_idx].item(), class_idx"
      ]
    },
    {
      "cell_type": "markdown",
      "metadata": {
        "id": "UONF5q8GnL-9"
      },
      "source": [
        "**1a: Making prediction**"
      ]
    },
    {
      "cell_type": "code",
      "execution_count": null,
      "metadata": {
        "id": "rPBfnb9LnV5w",
        "scrolled": true
      },
      "outputs": [],
      "source": [
        "# load and preprocess the stop sign image\n",
        "img = imgutils.load_img(stop_sign_path)\n",
        "img = imgutils.get_trf('rz256_cc224_tt_normimgnet')(img) #normalize and reshape the input image\n",
        "\n",
        "# REPLACE THE THREE DOTS WITH YOUR OWN CODE\n",
        "\n",
        "net = ...  # load resnet\n",
        "\n",
        "# use the provided get_prediction function to predict the class of the stop sign image\n",
        "..."
      ]
    },
    {
      "cell_type": "markdown",
      "metadata": {
        "id": "2cgmdL6ol3Vu"
      },
      "source": [
        "**1b: Random perturbation**"
      ]
    },
    {
      "cell_type": "code",
      "execution_count": null,
      "metadata": {
        "id": "G-bdQKHM11b8",
        "scrolled": true
      },
      "outputs": [],
      "source": [
        "# REPLACE THE THREE DOTS WITH YOUR OWN CODE\n",
        "\n",
        "epsilon = ... # set the epsilon\n",
        "\n",
        "torch.manual_seed(0) # set the random seed when you use functions that uses sampling\n",
        "\n",
        "noisy_img = ... # perform uniform random attack here [see the example in the Sec. 3.2.4 of the problem set]\n",
        "\n",
        "... # output prediction, conf, and label_id using get_prediction function\n",
        "\n",
        "imgutils.imshow([img, noisy_img-img, noisy_img], normd=True) #output the original image, the perturbation image, the perturbed image"
      ]
    },
    {
      "cell_type": "markdown",
      "metadata": {
        "id": "C3la24BqoIoq"
      },
      "source": [
        "**1c: FGM Attack**"
      ]
    },
    {
      "cell_type": "code",
      "execution_count": null,
      "metadata": {
        "id": "Ir0HrrBmoH-f",
        "scrolled": true
      },
      "outputs": [],
      "source": [
        "# REPLACE THE THREE DOTS WITH YOUR OWN CODE\n",
        "\n",
        "images, true_labels, predicted_labels = ... # perform FGM attacks and return all the outputs\n",
        "\n",
        "imgutils.imshow(images) # show all the images [original, perturbation, and adversarial]\n",
        "\n",
        "true_labels, predicted_labels # show true and predicted labels"
      ]
    },
    {
      "cell_type": "markdown",
      "metadata": {
        "id": "WmHUxpEcp6_b"
      },
      "source": [
        "**1d: PGD Attack**"
      ]
    },
    {
      "cell_type": "code",
      "execution_count": null,
      "metadata": {
        "id": "kKgBr9V_p-bH",
        "scrolled": true
      },
      "outputs": [],
      "source": [
        "# REPLACE THE THREE DOTS WITH YOUR OWN CODE\n",
        "\n",
        "target_class = 829 # imagenet id for street car\n",
        "\n",
        "images, true_labels, predicted_labels = ... # perform PGD attacks and return all the outputs\n",
        "\n",
        "imgutils.imshow(images) # show all the images [original, perturbation, and adversarial]\n",
        "\n",
        "true_labels, predicted_labels #show true and predicted labels"
      ]
    },
    {
      "cell_type": "markdown",
      "metadata": {
        "id": "qJcAfvWPq_nn"
      },
      "source": [
        "**2a: AlexNet layer 0 visualization**"
      ]
    },
    {
      "cell_type": "code",
      "execution_count": null,
      "metadata": {
        "id": "6GEB9Pb2rN1-",
        "scrolled": true
      },
      "outputs": [],
      "source": [
        "# REPLACE THE THREE DOTS WITH YOUR OWN CODE\n",
        "\n",
        "model = ...  #load pretrained alexnet\n",
        "\n",
        "print(model) #show the alexnet structure"
      ]
    },
    {
      "cell_type": "code",
      "execution_count": null,
      "metadata": {
        "id": "SIldOtt5Vv9M",
        "scrolled": true
      },
      "outputs": [],
      "source": [
        "# REPLACE THE THREE DOTS WITH YOUR OWN CODE\n",
        "\n",
        "#load GradientAscent on GPU\n",
        "g_ascent = GradientAscent(model.features)\n",
        "g_ascent.use_gpu = True\n",
        "\n",
        "layer_idx = ... # set the layer index\n",
        "\n",
        "filters = ... # set the filter numbers\n",
        "\n",
        "layer = model.features[layer_idx] # select the 1st conv layer\n",
        "\n",
        "... # call g_ascent.visualize() with the correct arguments to output the visualization\n",
        "\n"
      ]
    },
    {
      "cell_type": "markdown",
      "metadata": {
        "id": "LN8N5LF4shIH"
      },
      "source": [
        "**2b: AlexNet layer 10 visualization**"
      ]
    },
    {
      "cell_type": "code",
      "execution_count": null,
      "metadata": {
        "id": "060YWSuxskYY",
        "scrolled": true
      },
      "outputs": [],
      "source": [
        "# MODIFY THE CODE FOR 2a TO VISUALIZE LAYER 10, FILTERS [5, 10, 15, 20] OF ALEXNET\n"
      ]
    },
    {
      "cell_type": "markdown",
      "metadata": {
        "id": "AJju0cues6UM"
      },
      "source": [
        "**2c: AlexNet saliency map with the stop sign image**"
      ]
    },
    {
      "cell_type": "code",
      "execution_count": null,
      "metadata": {
        "id": "OEum1jNNtFJ6",
        "scrolled": true
      },
      "outputs": [],
      "source": [
        "# REPLACE THE THREE DOTS WITH YOUR OWN CODE\n",
        "\n",
        "# load FeatureExtractor\n",
        "from MapExtrackt import FeatureExtractor\n",
        "\n",
        "layer_idx = ... #define the layer index\n",
        "\n",
        "fe = FeatureExtractor(model)\n",
        "\n",
        "fe.set_image(stop_sign_path) # stop_sign_path is the path to the stop sign image\n",
        "\n",
        "fe.display_from_map(layer_no=layer_idx)"
      ]
    },
    {
      "cell_type": "markdown",
      "metadata": {
        "id": "-VxqVp4ceSCZ"
      },
      "source": [
        "**3: Example of plot with a confidence interval**\n",
        "\n"
      ]
    },
    {
      "cell_type": "code",
      "execution_count": null,
      "metadata": {
        "id": "LugmhXM6eiIN",
        "scrolled": true
      },
      "outputs": [],
      "source": [
        "#THIS IS JUST AN EXAMPLE TO PLOT CONFIDENCE INTERVAL AS SHADED AREA\n",
        "\n",
        "n = 500 # number of samples\n",
        "k = 10  # number of replications\n",
        "sigma = 0.2\n",
        "\n",
        "torch.manual_seed(0) # set the random seed\n",
        "deltas = torch.FloatTensor(sigma*torch.randn(n, k)) # gaussian samples ~ N(0, sigma*I)\n",
        "\n",
        "# compute mean and standard deviation\n",
        "mean_ = deltas.mean(dim=0)\n",
        "std_ = deltas.std(dim=0)\n",
        "\n",
        "# generate the plot\n",
        "x = np.arange(k) # populate x axis\n",
        "plt.plot(x, mean_, label=\"Estimated mean of $\\delta$\")\n",
        "plt.fill_between(x, mean_ - std_, mean_ + std_, alpha=0.5, label=\"Confidence Interval\") # 1-sigma confidence interval\n",
        "plt.legend()\n",
        "plt.ylim([None, 0.4]) \n",
        "plt.title('Example plot')\n",
        "plt.show()"
      ]
    },
    {
      "cell_type": "markdown",
      "metadata": {
        "id": "O3AMV6r1pKpG"
      },
      "source": [
        "**Density computation example with log_prob**"
      ]
    },
    {
      "cell_type": "code",
      "execution_count": null,
      "metadata": {
        "id": "PIyF9mbpnVNx",
        "scrolled": true
      },
      "outputs": [],
      "source": [
        "# THIS IS AN EXAMPLE TO USE log_prob METHOD FOR EASIER DENSITY COMPUTATION\n",
        "\n",
        "# Suppose you want to compute the density of Normal distribution\n",
        "\n",
        "# create Normal distribution object\n",
        "p = Normal(torch.tensor([0.0]), torch.tensor([sigma]))       # N(0, sigma**2)\n",
        "p_tilde = Normal(torch.tensor([0.2]), torch.tensor([sigma])) # N(1, sigma**2)\n",
        "\n",
        "# use log_prob method\n",
        "log_density_orig = p.log_prob(deltas) # log_prob method gives you log densities\n",
        "log_density_tilde = p_tilde.log_prob(deltas) \n",
        "\n",
        "# verify this by plotting the density, i.e. the exp of the log_density\n",
        "plt.scatter(deltas, torch.exp(log_lkl_orig), label=\"p\")\n",
        "plt.scatter(deltas, torch.exp(log_lkl_tilde), label=\"p_tilde\")\n",
        "plt.show()"
      ]
    },
    {
      "cell_type": "markdown",
      "metadata": {
        "id": "3t_QzPeFt0kH"
      },
      "source": [
        "**3a: MC estimator for prob. robustness of ResNet-18**"
      ]
    },
    {
      "cell_type": "code",
      "execution_count": null,
      "metadata": {
        "id": "zC0Qmm7audHo",
        "scrolled": true
      },
      "outputs": [],
      "source": [
        "# REPLACE THE THREE DOTS WITH YOUR OWN CODE\n",
        "\n",
        "net = ... # load resnet\n",
        "\n",
        "sigma = # parameter sigma\n",
        "\n",
        "# evaluate the model k times, each time use n samples\n",
        "k = ... # number of replications\n",
        "n = ... # number of samples in each replication\n",
        "\n",
        "# collect the samples\n",
        "torch.manual_seed(0) # set the random seed\n",
        "deltas = torch.FloatTensor(sigma*torch.randn(*img.shape, n, k)) # gaussian samples ~ N(0, sigma*I)\n",
        "\n",
        "resnet_test=np.zeros([n, k])\n",
        "\n",
        "for i in range(k):\n",
        "    for j in range(n):\n",
        "        noisy_img = img + deltas[:, :, :, j, i]\n",
        "        _, _, y_i = get_prediction(noisy_img, net)\n",
        "        resnet_test[j, i] = y_i != true_class"
      ]
    },
    {
      "cell_type": "code",
      "execution_count": null,
      "metadata": {
        "id": "8dzEQwTbjpRC",
        "scrolled": true
      },
      "outputs": [],
      "source": [
        "# compute the mean and standard deviation of your estimator\n",
        "mu_hat_n_samples = resnet_test.mean(axis=0)\n",
        "\n",
        "mean_ = mu_hat_n_samples.mean()\n",
        "std_ = mu_hat_n_samples.std()\n",
        "\n",
        "mean_, std_"
      ]
    },
    {
      "cell_type": "code",
      "execution_count": null,
      "metadata": {
        "id": "DkePaA-Mb2fz",
        "scrolled": true
      },
      "outputs": [],
      "source": [
        "# REPEAT THE ABOVE EXAMPLE FOR n = [100, ..., 1000]\n",
        "...\n",
        "\n",
        "# PLOT THE MEAN AND THE CONFIDENCE INTERVAL OF THE k VALUES OF mu_hat_n VS n\n",
        "..."
      ]
    },
    {
      "cell_type": "markdown",
      "metadata": {
        "id": "GhNIWENGu_d0"
      },
      "source": [
        "**3b: MC relative error**"
      ]
    },
    {
      "cell_type": "code",
      "execution_count": null,
      "metadata": {
        "id": "zQ-bwFPNvIJd",
        "scrolled": true
      },
      "outputs": [],
      "source": [
        "# REPLACE THE THREE DOTS WITH YOUR OWN CODE\n",
        "\n",
        "mu = 0.03 #true mu value\n",
        "\n",
        "relative_error = ... # compute the relative error\n",
        "\n",
        "# PLOT THE RELATIVE ERROR VS n\n",
        "..."
      ]
    },
    {
      "cell_type": "markdown",
      "metadata": {
        "id": "_RnuMV_avIiO"
      },
      "source": [
        "**3c: Misclassification rate w.r.t. samples close to an adversarial example**"
      ]
    },
    {
      "cell_type": "code",
      "execution_count": null,
      "metadata": {
        "id": "GUgEf91Yvf9w",
        "scrolled": true
      },
      "outputs": [],
      "source": [
        "# REPLACE THE THREE DOTS WITH YOUR OWN CODE\n",
        "\n",
        "# repeat the FGM attack from problem 1c\n",
        "xtilde = ...\n",
        "\n",
        "# perform mean shift, closer to the adversarial example\n",
        "scale = 1/3\n",
        "mean_shift = scale*xtilde\n",
        "\n",
        "# generate Gaussian samples centered at the mean_shift\n",
        "torch.manual_seed(0) # set the random seed\n",
        "\n",
        "deltas = ...\n",
        "\n",
        "# compute misclassification rate using this new deltas, similar to 3a above\n",
        "..."
      ]
    },
    {
      "cell_type": "markdown",
      "metadata": {
        "id": "iEIK3GEPvg3V"
      },
      "source": [
        "**3d: IS estimator**"
      ]
    },
    {
      "cell_type": "code",
      "execution_count": null,
      "metadata": {
        "id": "LJ12nbTBvzbj",
        "scrolled": true
      },
      "outputs": [],
      "source": [
        "# REPLACE THE THREE DOTS WITH YOUR OWN CODE\n",
        "\n",
        "# use the sample generated in 3c and the log_prob method to compute the likelihood ratio\n",
        "p = Normal(torch.tensor([0.0]), torch.tensor([sigma])) # N(0, sigma**2)\n",
        "\n",
        "log_density_p = p.log_prob(deltas) # log_density per dimension for each sample under dist p = N(0, sigma**2)\n",
        "\n",
        "log_density_ptilde = p.log_prob(deltas - mean_shift) # log_density per dimension for each sample under dist ptilde = N(mean_shift, sigma**2)\n",
        "\n",
        "# compute log_likelihood per sample (assuming i.i.d. noise )\n",
        "log_lkl_p = log_density_p.view(-1, log_density_p.size(3), log_density_p.size(4)).sum(axis=0)\n",
        "log_lkl_ptilde = log_density_ptilde.view(-1, log_density_ptilde.size(3), log_density_ptilde.size(4)).sum(axis=0)\n",
        "\n",
        "# compute likelihood ratio\n",
        "lkl_ratio = torch.exp(log_lkl_p - log_lkl_ptilde)\n",
        "\n",
        "# proceed to compute the IS estimator\n",
        "...\n"
      ]
    },
    {
      "cell_type": "code",
      "execution_count": null,
      "metadata": {
        "id": "hLT6c7_ysVre",
        "scrolled": true
      },
      "outputs": [],
      "source": [
        "# similar to 3a, repeat for n = [100, ..., 1000]\n",
        "...\n",
        "\n",
        "# plot the mean and the confidence interval of mu_hat_n vs n\n",
        "..."
      ]
    },
    {
      "cell_type": "markdown",
      "metadata": {
        "id": "lx2_g3L9v0Ar"
      },
      "source": [
        "**3e: IS relative error**"
      ]
    },
    {
      "cell_type": "code",
      "execution_count": null,
      "metadata": {
        "id": "IT1jOkEdv3UV",
        "scrolled": true
      },
      "outputs": [],
      "source": [
        "# similar to 3b, but use the IS result\n",
        "...\n"
      ]
    }
  ],
  "metadata": {
    "colab": {
      "provenance": []
    },
    "kernelspec": {
      "display_name": "Python 3 (ipykernel)",
      "language": "python",
      "name": "python3"
    },
    "language_info": {
      "codemirror_mode": {
        "name": "ipython",
        "version": 3
      },
      "file_extension": ".py",
      "mimetype": "text/x-python",
      "name": "python",
      "nbconvert_exporter": "python",
      "pygments_lexer": "ipython3",
      "version": "3.9.7"
    }
  },
  "nbformat": 4,
  "nbformat_minor": 0
}